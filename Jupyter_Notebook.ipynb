{
  "cells": [
    {
      "cell_type": "markdown",
      "metadata": {
        "id": "UObC8PKnG-Fd"
      },
      "source": [
        "<center>\n",
        "    <img src=\"https://cf-courses-data.s3.us.cloud-object-storage.appdomain.cloud/IBMDeveloperSkillsNetwork-DS0105EN-SkillsNetwork/labs/Module2/images/SN_web_lightmode.png\" width=\"300\" alt=\"cognitiveclass.ai logo\">\n",
        "</center>\n"
      ]
    },
    {
      "cell_type": "markdown",
      "metadata": {
        "id": "bLZRXnjLG-Fh"
      },
      "source": [
        "#### Add your code below following the instructions given in the course\n"
      ]
    },
    {
      "cell_type": "markdown",
      "source": [
        "# DataScienceEcosystem"
      ],
      "metadata": {
        "id": "IIf187N7509f"
      }
    },
    {
      "cell_type": "markdown",
      "source": [
        "In this notebook, Data Science Tools and Ecosystem are summarized.\n"
      ],
      "metadata": {
        "id": "rW2Hox5r6mow"
      }
    },
    {
      "cell_type": "markdown",
      "source": [
        "**Objectives:**\n",
        "- Listas ordenadas\n",
        "- Listas desordenadas\n",
        "- Tablas\n",
        "\n"
      ],
      "metadata": {
        "id": "R_wOqdh7Dvis"
      }
    },
    {
      "cell_type": "markdown",
      "source": [
        "Some of the popular languages that Data Scientists use are:\n",
        "\n",
        "1. python\n",
        "2. R\n",
        "3. Scala\n"
      ],
      "metadata": {
        "id": "-3wXYdkf69g1"
      }
    },
    {
      "cell_type": "markdown",
      "source": [
        "Some of the commonly used libraries used by Data Scientists include:\n",
        "1. Matplotlib\n",
        "2. Numpy\n",
        "3. TensorFlow"
      ],
      "metadata": {
        "id": "WEgKaWTm9KJ4"
      }
    },
    {
      "cell_type": "markdown",
      "source": [
        "|Data Science Tools|\n",
        "|------------------|\n",
        "|GitHub|\n",
        "|IDEs|\n",
        "|Entorno de ejecucion |"
      ],
      "metadata": {
        "id": "puKRaLqd95DD"
      }
    },
    {
      "cell_type": "markdown",
      "source": [
        "### Below are a few examples of evaluating arithmetic expressions in Python\n",
        "- Sumar = a + b\n",
        "- Restar = a - b\n",
        "- Dividir = a / b\n",
        "- Multiplicar = a * b\n"
      ],
      "metadata": {
        "id": "1_V2BDUu-nI-"
      }
    },
    {
      "cell_type": "code",
      "source": [
        "#esta es una expresión aritmética simple para luego agregar números enteros\n",
        "(3*4)+5"
      ],
      "metadata": {
        "colab": {
          "base_uri": "https://localhost:8080/"
        },
        "id": "HIogqzAvCUIk",
        "outputId": "17f985b4-000c-4645-8b65-9fed834bc340"
      },
      "execution_count": null,
      "outputs": [
        {
          "output_type": "execute_result",
          "data": {
            "text/plain": [
              "17"
            ]
          },
          "metadata": {},
          "execution_count": 1
        }
      ]
    },
    {
      "cell_type": "code",
      "source": [
        "# Este codigo convertira 300 minutos en horas\n",
        "minutos = 300\n",
        "horas = minutos / 60\n",
        "print(horas)"
      ],
      "metadata": {
        "colab": {
          "base_uri": "https://localhost:8080/"
        },
        "id": "fh--m_HpCw-g",
        "outputId": "2190959f-e813-4deb-e1f6-6551cbd9bc48"
      },
      "execution_count": null,
      "outputs": [
        {
          "output_type": "stream",
          "name": "stdout",
          "text": [
            "5.0\n"
          ]
        }
      ]
    },
    {
      "cell_type": "markdown",
      "source": [
        "Author\n",
        "## Francisco Marinoni\n",
        "Author"
      ],
      "metadata": {
        "id": "SF-8LvVxEs8P"
      }
    },
    {
      "cell_type": "code",
      "execution_count": null,
      "metadata": {
        "id": "IiuQ1LSeG-Fi"
      },
      "outputs": [],
      "source": []
    }
  ],
  "metadata": {
    "kernelspec": {
      "display_name": "Python",
      "language": "python",
      "name": "conda-env-python-py"
    },
    "language_info": {
      "name": ""
    },
    "colab": {
      "provenance": []
    }
  },
  "nbformat": 4,
  "nbformat_minor": 0
}
